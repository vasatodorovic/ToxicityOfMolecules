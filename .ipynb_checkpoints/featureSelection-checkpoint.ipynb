{
 "cells": [
  {
   "cell_type": "code",
   "execution_count": 381,
   "id": "58726ee8",
   "metadata": {},
   "outputs": [],
   "source": [
    "import pandas as pd\n",
    "import numpy as np\n",
    "import matplotlib.pyplot as plt"
   ]
  },
  {
   "cell_type": "code",
   "execution_count": 426,
   "id": "39236755",
   "metadata": {},
   "outputs": [],
   "source": [
    "data=pd.read_csv('C:/Users/KORISNIK/Desktop/ToxicityOfMolecules/data.csv')\n",
    "data2=pd.read_csv('C:/Users/KORISNIK/Desktop/ToxicityOfMolecules/Toxicity-13F.csv')"
   ]
  },
  {
   "cell_type": "code",
   "execution_count": 427,
   "id": "1ed99149",
   "metadata": {},
   "outputs": [
    {
     "data": {
      "text/plain": [
       "(171, 1204)"
      ]
     },
     "execution_count": 427,
     "metadata": {},
     "output_type": "execute_result"
    }
   ],
   "source": [
    "data.shape"
   ]
  },
  {
   "cell_type": "code",
   "execution_count": 428,
   "id": "608537d5",
   "metadata": {},
   "outputs": [],
   "source": [
    "from sklearn.preprocessing import LabelEncoder\n",
    "le = LabelEncoder()\n",
    "data.iloc[:,-1]=le.fit_transform(data.iloc[:,-1])"
   ]
  },
  {
   "cell_type": "code",
   "execution_count": 430,
   "id": "98dc575f",
   "metadata": {},
   "outputs": [
    {
     "data": {
      "text/plain": [
       "0      0\n",
       "1      0\n",
       "2      0\n",
       "3      0\n",
       "4      0\n",
       "      ..\n",
       "166    0\n",
       "167    0\n",
       "168    0\n",
       "169    1\n",
       "170    1\n",
       "Name: Class, Length: 171, dtype: int32"
      ]
     },
     "execution_count": 430,
     "metadata": {},
     "output_type": "execute_result"
    }
   ],
   "source": [
    "y=data.iloc[:,-1]\n",
    "y1=data2.iloc[:,-1]\n",
    "y"
   ]
  },
  {
   "cell_type": "code",
   "execution_count": 431,
   "id": "f4b616ab",
   "metadata": {},
   "outputs": [],
   "source": [
    "x=data.iloc[:,:-1]\n",
    "x1=data2.iloc[:,:-1]\n",
    "columns=x.columns"
   ]
  },
  {
   "cell_type": "code",
   "execution_count": 387,
   "id": "654756a3",
   "metadata": {},
   "outputs": [
    {
     "name": "stdout",
     "output_type": "stream",
     "text": [
      "False\n"
     ]
    }
   ],
   "source": [
    "# check if there are any missing values in the entire dataset\n",
    "print(data.isnull().any().any())"
   ]
  },
  {
   "cell_type": "code",
   "execution_count": 432,
   "id": "742c9725",
   "metadata": {},
   "outputs": [],
   "source": [
    "from sklearn.model_selection import train_test_split\n",
    "x_train,x_test,y_train,y_test=train_test_split(x,y,test_size=0.2,stratify=y,random_state=42)\n",
    "x_train1,x_test1,y_train1,y_test1=train_test_split(x1,y1,test_size=0.2,stratify=y,random_state=42)"
   ]
  },
  {
   "cell_type": "code",
   "execution_count": 389,
   "id": "3643a591",
   "metadata": {},
   "outputs": [
    {
     "data": {
      "text/plain": [
       "(136, 1203)"
      ]
     },
     "execution_count": 389,
     "metadata": {},
     "output_type": "execute_result"
    }
   ],
   "source": [
    "x_train.shape"
   ]
  },
  {
   "cell_type": "code",
   "execution_count": 390,
   "id": "472a1e0d",
   "metadata": {},
   "outputs": [
    {
     "data": {
      "text/plain": [
       "(35, 1203)"
      ]
     },
     "execution_count": 390,
     "metadata": {},
     "output_type": "execute_result"
    }
   ],
   "source": [
    "x_test.shape"
   ]
  },
  {
   "cell_type": "code",
   "execution_count": 391,
   "id": "63a73be9",
   "metadata": {},
   "outputs": [],
   "source": [
    "from sklearn.feature_selection import VarianceThreshold"
   ]
  },
  {
   "cell_type": "code",
   "execution_count": 392,
   "id": "80064667",
   "metadata": {},
   "outputs": [],
   "source": [
    "'''VarianceThreshold Feature Selection'''\n",
    "vt=VarianceThreshold(0.2)\n",
    "x_train_vt=vt.fit_transform(x_train)\n",
    "x_test_vt=vt.transform(x_test)"
   ]
  },
  {
   "cell_type": "code",
   "execution_count": 393,
   "id": "57976729",
   "metadata": {},
   "outputs": [
    {
     "data": {
      "text/plain": [
       "(136, 624)"
      ]
     },
     "execution_count": 393,
     "metadata": {},
     "output_type": "execute_result"
    }
   ],
   "source": [
    "x_train_vt.shape"
   ]
  },
  {
   "cell_type": "code",
   "execution_count": 394,
   "id": "980c0618",
   "metadata": {},
   "outputs": [
    {
     "data": {
      "text/plain": [
       "(35, 624)"
      ]
     },
     "execution_count": 394,
     "metadata": {},
     "output_type": "execute_result"
    }
   ],
   "source": [
    "x_test_vt.shape"
   ]
  },
  {
   "cell_type": "code",
   "execution_count": 395,
   "id": "89010531",
   "metadata": {},
   "outputs": [],
   "source": [
    "selected_columns_vt=columns[vt.get_support()]"
   ]
  },
  {
   "cell_type": "code",
   "execution_count": 396,
   "id": "09e4a5f9",
   "metadata": {},
   "outputs": [],
   "source": [
    "x_train_vt=pd.DataFrame(x_train_vt,columns=selected_columns_vt)\n",
    "x_test_vt=pd.DataFrame(x_test_vt,columns=selected_columns_vt)"
   ]
  },
  {
   "cell_type": "code",
   "execution_count": 397,
   "id": "04977e05",
   "metadata": {},
   "outputs": [],
   "source": [
    "#---------------------------------------------------------#\n",
    "#                   FEATURE SELECTION"
   ]
  },
  {
   "cell_type": "code",
   "execution_count": 398,
   "id": "69dd2782",
   "metadata": {},
   "outputs": [],
   "source": [
    "'''SelectKBest Feature Selection'''\n",
    "''' F-value => razlika sr.vr izmedju klasa normalizovano varijansama\n",
    "                visoka f vrednost -> velika povezanost atributa sa \n",
    "                ciljnom\n",
    "    p-vrednost => vrv da je povezanost atributa i ciljne SLUCAJNA\n",
    "                niska p vrednost => povezanost je znacajna, \n",
    "                                    vrv nije slucajnost\n",
    "'''\n",
    "p=4"
   ]
  },
  {
   "cell_type": "code",
   "execution_count": 399,
   "id": "938a37b3",
   "metadata": {},
   "outputs": [],
   "source": [
    "from sklearn.feature_selection import f_classif, SelectKBest"
   ]
  },
  {
   "cell_type": "code",
   "execution_count": 400,
   "id": "36ec536b",
   "metadata": {},
   "outputs": [],
   "source": [
    "selector=VarianceThreshold(threshold=0.2) \n",
    "#uklanjamo konstantne atr -> izlazio mi je warning\n",
    "\n",
    "#C:\\Users\\KORISNIK\\AppData\\Local\\Programs\\Python\\Python310\\lib\\site-packages\\sklearn\\feature_selection\\_univariate_selection.py:112: \n",
    " #       UserWarning: Features [ 203  214  253  378  702  759  989 1028 1035 1110] \n",
    "  #      are constant.\n",
    "  #warnings.warn(\"Features %s are constant.\" % constant_features_idx, UserWarning)\n",
    "#C:\\Users\\KORISNIK\\AppData\\Local\\Programs\\Python\\Python310\\lib\\site-packages\\sklearn\\feature_selection\\_univariate_selection.py:113: RuntimeWarning: invalid value encountered i\n",
    "#n true_dividef = msb \\ msw \n",
    "'''imamo [ 203  214  253  378  702  759  989 1028 1035 1110] kao\n",
    "konstante atribute, samo instanca 92. nije konstantna'''\n",
    "\n",
    "x_train_skb=selector.fit_transform(x_train)\n",
    "x_test_skb=selector.transform(x_test)\n",
    "\n",
    "columns_skb=columns[selector.get_support()]\n",
    "\n",
    "skb=SelectKBest(score_func=f_classif,k=20)\n",
    "x_train_skb=skb.fit_transform(x_train_skb,y_train)\n",
    "x_test_skb=skb.transform(x_test_skb)\n",
    "\n",
    "\n",
    "selected_columns_skb=columns_skb[skb.get_support()]\n",
    "\n",
    "x_train_skb=pd.DataFrame(x_train_skb,columns=selected_columns_skb)\n",
    "x_test_skb=pd.DataFrame(x_test_skb,columns=selected_columns_skb)"
   ]
  },
  {
   "cell_type": "code",
   "execution_count": null,
   "id": "a69f3749",
   "metadata": {},
   "outputs": [],
   "source": []
  },
  {
   "cell_type": "code",
   "execution_count": 401,
   "id": "7eb501f4",
   "metadata": {},
   "outputs": [],
   "source": [
    "#-----------------------------------------------------------------#\n",
    "#                      DecisionTree"
   ]
  },
  {
   "cell_type": "code",
   "execution_count": 402,
   "id": "36b0a3c0",
   "metadata": {},
   "outputs": [],
   "source": [
    "from sklearn.tree import DecisionTreeClassifier\n",
    "from sklearn.model_selection import GridSearchCV"
   ]
  },
  {
   "cell_type": "code",
   "execution_count": 403,
   "id": "a72691a1",
   "metadata": {},
   "outputs": [],
   "source": [
    "tree=DecisionTreeClassifier()\n",
    "param_grid = {'max_depth': [2, 4, 6, 8],\n",
    "              'min_samples_leaf': [2, 4, 6, 8]}\n",
    "model=GridSearchCV(tree,param_grid=param_grid,cv=5)"
   ]
  },
  {
   "cell_type": "code",
   "execution_count": 415,
   "id": "f1adc965",
   "metadata": {},
   "outputs": [
    {
     "data": {
      "text/plain": [
       "GridSearchCV(cv=5, estimator=DecisionTreeClassifier(),\n",
       "             param_grid={'max_depth': [2, 4, 6, 8],\n",
       "                         'min_samples_leaf': [2, 4, 6, 8]})"
      ]
     },
     "execution_count": 415,
     "metadata": {},
     "output_type": "execute_result"
    }
   ],
   "source": [
    "model.fit(x_train_skb,y_train)"
   ]
  },
  {
   "cell_type": "code",
   "execution_count": 416,
   "id": "fabd5768",
   "metadata": {},
   "outputs": [
    {
     "data": {
      "text/plain": [
       "{'max_depth': 4, 'min_samples_leaf': 2}"
      ]
     },
     "execution_count": 416,
     "metadata": {},
     "output_type": "execute_result"
    }
   ],
   "source": [
    "model.best_params_"
   ]
  },
  {
   "cell_type": "code",
   "execution_count": 417,
   "id": "1d62897f",
   "metadata": {},
   "outputs": [],
   "source": [
    "y_train_skb_pred=model.best_estimator_.predict(x_train_skb)\n",
    "y_test_skb_pred=model.best_estimator_.predict(x_test_skb)"
   ]
  },
  {
   "cell_type": "code",
   "execution_count": 418,
   "id": "fdeb709e",
   "metadata": {},
   "outputs": [],
   "source": [
    "from sklearn.metrics import accuracy_score,confusion_matrix"
   ]
  },
  {
   "cell_type": "code",
   "execution_count": 419,
   "id": "e044f693",
   "metadata": {},
   "outputs": [
    {
     "data": {
      "text/plain": [
       "0.7720588235294118"
      ]
     },
     "execution_count": 419,
     "metadata": {},
     "output_type": "execute_result"
    }
   ],
   "source": [
    "accuracy_score(y_train,y_train_skb_pred)"
   ]
  },
  {
   "cell_type": "code",
   "execution_count": 420,
   "id": "113bae37",
   "metadata": {},
   "outputs": [
    {
     "data": {
      "text/plain": [
       "0.6285714285714286"
      ]
     },
     "execution_count": 420,
     "metadata": {},
     "output_type": "execute_result"
    }
   ],
   "source": [
    "accuracy_score(y_test,y_test_skb_pred)"
   ]
  },
  {
   "cell_type": "code",
   "execution_count": 421,
   "id": "4f95dc74",
   "metadata": {},
   "outputs": [],
   "source": [
    "cm_train=confusion_matrix(y_train,y_train_skb_pred)"
   ]
  },
  {
   "cell_type": "code",
   "execution_count": 422,
   "id": "eb3884c9",
   "metadata": {},
   "outputs": [],
   "source": [
    "import seaborn as sns"
   ]
  },
  {
   "cell_type": "code",
   "execution_count": 423,
   "id": "8f61f5e3",
   "metadata": {},
   "outputs": [
    {
     "data": {
      "text/plain": [
       "<AxesSubplot:>"
      ]
     },
     "execution_count": 423,
     "metadata": {},
     "output_type": "execute_result"
    },
    {
     "data": {
      "image/png": "[encoded data removed]",
      "text/plain": [
       "<Figure size 432x288 with 2 Axes>"
      ]
     },
     "metadata": {
      "needs_background": "light"
     },
     "output_type": "display_data"
    }
   ],
   "source": [
    "sns.heatmap(cm_train, annot=True, cmap=\"Blues\")"
   ]
  },
  {
   "cell_type": "code",
   "execution_count": 424,
   "id": "3f9463b6",
   "metadata": {},
   "outputs": [],
   "source": [
    "cm_test=confusion_matrix(y_test,y_test_skb_pred)"
   ]
  },
  {
   "cell_type": "code",
   "execution_count": 425,
   "id": "4b538996",
   "metadata": {},
   "outputs": [
    {
     "data": {
      "text/plain": [
       "<AxesSubplot:>"
      ]
     },
     "execution_count": 425,
     "metadata": {},
     "output_type": "execute_result"
    },
    {
     "data": {
      "image/png": "[encoded data removed]",
      "text/plain": [
       "<Figure size 432x288 with 2 Axes>"
      ]
     },
     "metadata": {
      "needs_background": "light"
     },
     "output_type": "display_data"
    }
   ],
   "source": [
    "sns.heatmap(cm_test, annot=True, cmap=\"Blues\")"
   ]
  },
  {
   "cell_type": "code",
   "execution_count": null,
   "id": "f32be3ba",
   "metadata": {},
   "outputs": [],
   "source": []
  },
  {
   "cell_type": "code",
   "execution_count": 433,
   "id": "6387ae2f",
   "metadata": {},
   "outputs": [
    {
     "data": {
      "text/plain": [
       "GridSearchCV(cv=5, estimator=DecisionTreeClassifier(),\n",
       "             param_grid={'max_depth': [2, 4, 6, 8],\n",
       "                         'min_samples_leaf': [2, 4, 6, 8]})"
      ]
     },
     "execution_count": 433,
     "metadata": {},
     "output_type": "execute_result"
    }
   ],
   "source": []
  },
  {
   "cell_type": "code",
   "execution_count": 434,
   "id": "c60f6844",
   "metadata": {},
   "outputs": [],
   "source": []
  },
  {
   "cell_type": "code",
   "execution_count": 435,
   "id": "9ed12d03",
   "metadata": {},
   "outputs": [
    {
     "data": {
      "text/plain": [
       "0.9264705882352942"
      ]
     },
     "execution_count": 435,
     "metadata": {},
     "output_type": "execute_result"
    }
   ],
   "source": []
  },
  {
   "cell_type": "code",
   "execution_count": 436,
   "id": "7db9a9c2",
   "metadata": {},
   "outputs": [
    {
     "data": {
      "text/plain": [
       "0.5714285714285714"
      ]
     },
     "execution_count": 436,
     "metadata": {},
     "output_type": "execute_result"
    }
   ],
   "source": []
  },
  {
   "cell_type": "code",
   "execution_count": null,
   "id": "f240b2a1",
   "metadata": {},
   "outputs": [],
   "source": []
  }
 ],
 "metadata": {
  "kernelspec": {
   "display_name": "Python 3 (ipykernel)",
   "language": "python",
   "name": "python3"
  },
  "language_info": {
   "codemirror_mode": {
    "name": "ipython",
    "version": 3
   },
   "file_extension": ".py",
   "mimetype": "text/x-python",
   "name": "python",
   "nbconvert_exporter": "python",
   "pygments_lexer": "ipython3",
   "version": "3.10.3"
  }
 },
 "nbformat": 4,
 "nbformat_minor": 5
}
