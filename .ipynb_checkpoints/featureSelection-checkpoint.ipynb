{
 "cells": [
  {
   "cell_type": "code",
   "execution_count": 155,
   "id": "58726ee8",
   "metadata": {},
   "outputs": [],
   "source": [
    "import pandas as pd\n",
    "import numpy as np\n",
    "import matplotlib.pyplot as plt"
   ]
  },
  {
   "cell_type": "code",
   "execution_count": 156,
   "id": "d608126b",
   "metadata": {},
   "outputs": [],
   "source": [
    "data=pd.read_csv('C:/Users/KORISNIK/Desktop/ToxicityOfMolecules/data.csv')"
   ]
  },
  {
   "cell_type": "code",
   "execution_count": 157,
   "id": "d15475e8",
   "metadata": {},
   "outputs": [
    {
     "data": {
      "text/plain": [
       "(171, 1204)"
      ]
     },
     "execution_count": 157,
     "metadata": {},
     "output_type": "execute_result"
    }
   ],
   "source": [
    "data.shape"
   ]
  },
  {
   "cell_type": "code",
   "execution_count": 158,
   "id": "ba4ea6bf",
   "metadata": {},
   "outputs": [
    {
     "data": {
      "text/plain": [
       "0      NonToxic\n",
       "1      NonToxic\n",
       "2      NonToxic\n",
       "3      NonToxic\n",
       "4      NonToxic\n",
       "         ...   \n",
       "166    NonToxic\n",
       "167    NonToxic\n",
       "168    NonToxic\n",
       "169       Toxic\n",
       "170       Toxic\n",
       "Name: Class, Length: 171, dtype: object"
      ]
     },
     "execution_count": 158,
     "metadata": {},
     "output_type": "execute_result"
    }
   ],
   "source": [
    "y=data.iloc[:,-1]\n",
    "y"
   ]
  },
  {
   "cell_type": "code",
   "execution_count": 159,
   "id": "62185b1b",
   "metadata": {},
   "outputs": [],
   "source": [
    "x=data.iloc[:,:-1]\n",
    "columns=x.columns"
   ]
  },
  {
   "cell_type": "code",
   "execution_count": null,
   "id": "c55c924c",
   "metadata": {},
   "outputs": [],
   "source": []
  },
  {
   "cell_type": "code",
   "execution_count": 160,
   "id": "da842782",
   "metadata": {},
   "outputs": [],
   "source": [
    "from sklearn.model_selection import train_test_split\n",
    "x_train,x_test,y_train,y_test=train_test_split(x,y,test_size=0.2,stratify=y,random_state=42)"
   ]
  },
  {
   "cell_type": "code",
   "execution_count": 161,
   "id": "985b19fc",
   "metadata": {},
   "outputs": [
    {
     "data": {
      "text/plain": [
       "(136, 1203)"
      ]
     },
     "execution_count": 161,
     "metadata": {},
     "output_type": "execute_result"
    }
   ],
   "source": [
    "x_train.shape"
   ]
  },
  {
   "cell_type": "code",
   "execution_count": 162,
   "id": "7c064adf",
   "metadata": {},
   "outputs": [
    {
     "data": {
      "text/plain": [
       "(35, 1203)"
      ]
     },
     "execution_count": 162,
     "metadata": {},
     "output_type": "execute_result"
    }
   ],
   "source": [
    "x_test.shape"
   ]
  },
  {
   "cell_type": "code",
   "execution_count": 163,
   "id": "586a117f",
   "metadata": {},
   "outputs": [],
   "source": [
    "from sklearn.feature_selection import VarianceThreshold"
   ]
  },
  {
   "cell_type": "code",
   "execution_count": 164,
   "id": "db20ac5b",
   "metadata": {},
   "outputs": [],
   "source": [
    "'''VarianceThreshold Feature Selection'''\n",
    "vt=VarianceThreshold(0.2)\n",
    "x_train_vt=vt.fit_transform(x_train)\n",
    "x_test_vt=vt.transform(x_test)"
   ]
  },
  {
   "cell_type": "code",
   "execution_count": 165,
   "id": "bfa5530a",
   "metadata": {},
   "outputs": [
    {
     "data": {
      "text/plain": [
       "(136, 624)"
      ]
     },
     "execution_count": 165,
     "metadata": {},
     "output_type": "execute_result"
    }
   ],
   "source": [
    "x_train_vt.shape"
   ]
  },
  {
   "cell_type": "code",
   "execution_count": 166,
   "id": "f331fbeb",
   "metadata": {},
   "outputs": [
    {
     "data": {
      "text/plain": [
       "(35, 624)"
      ]
     },
     "execution_count": 166,
     "metadata": {},
     "output_type": "execute_result"
    }
   ],
   "source": [
    "x_test_vt.shape"
   ]
  },
  {
   "cell_type": "code",
   "execution_count": 167,
   "id": "452ccac1",
   "metadata": {},
   "outputs": [],
   "source": [
    "selected_columns_vt=columns[vt.get_support()]"
   ]
  },
  {
   "cell_type": "code",
   "execution_count": 168,
   "id": "88dc76de",
   "metadata": {},
   "outputs": [],
   "source": [
    "x_train_vt=pd.DataFrame(x_train_vt,columns=selected_columns_vt)\n",
    "x_test_vt=pd.DataFrame(x_test_vt,columns=selected_columns_vt)"
   ]
  },
  {
   "cell_type": "code",
   "execution_count": null,
   "id": "ee0e26bd",
   "metadata": {},
   "outputs": [],
   "source": [
    "#---------------------------------------------------------#"
   ]
  },
  {
   "cell_type": "code",
   "execution_count": 169,
   "id": "7367a544",
   "metadata": {},
   "outputs": [
    {
     "data": {
      "text/plain": [
       "' F-value => razlika sr.vr izmedju klasa normalizovano varijansama\\n                visoka f vrednost -> velika povezanost atributa sa \\n                ciljnom\\n    p-vrednost => vrv da je povezanost atributa i ciljne SLUCAJNA\\n                niska p vrednost => povezanost je znacajna, \\n                                    vrv nije slucajnost\\n'"
      ]
     },
     "execution_count": 169,
     "metadata": {},
     "output_type": "execute_result"
    }
   ],
   "source": [
    "'''SelectKBest Feature Selection'''\n",
    "''' F-value => razlika sr.vr izmedju klasa normalizovano varijansama\n",
    "                visoka f vrednost -> velika povezanost atributa sa \n",
    "                ciljnom\n",
    "    p-vrednost => vrv da je povezanost atributa i ciljne SLUCAJNA\n",
    "                niska p vrednost => povezanost je znacajna, \n",
    "                                    vrv nije slucajnost\n",
    "'''"
   ]
  },
  {
   "cell_type": "code",
   "execution_count": 170,
   "id": "275ce44c",
   "metadata": {},
   "outputs": [],
   "source": [
    "from sklearn.feature_selection import f_classif, SelectKBest"
   ]
  },
  {
   "cell_type": "code",
   "execution_count": 187,
   "id": "81ea2abf",
   "metadata": {},
   "outputs": [],
   "source": [
    "selector=VarianceThreshold(threshold=0.01) \n",
    "#uklanjamo konstantne atr -> izlazio mi je warning\n",
    "\n",
    "#C:\\Users\\KORISNIK\\AppData\\Local\\Programs\\Python\\Python310\\lib\\site-packages\\sklearn\\feature_selection\\_univariate_selection.py:112: \n",
    " #       UserWarning: Features [ 203  214  253  378  702  759  989 1028 1035 1110] \n",
    "  #      are constant.\n",
    "  #warnings.warn(\"Features %s are constant.\" % constant_features_idx, UserWarning)\n",
    "#C:\\Users\\KORISNIK\\AppData\\Local\\Programs\\Python\\Python310\\lib\\site-packages\\sklearn\\feature_selection\\_univariate_selection.py:113: RuntimeWarning: invalid value encountered i\n",
    "#n true_dividef = msb \\ msw \n",
    "'''imamo [ 203  214  253  378  702  759  989 1028 1035 1110] kao\n",
    "konstante atribute, samo instanca 92. nije konstantna'''\n",
    "\n",
    "x_train_skb=selector.fit_transform(x_train)\n",
    "x_test_skb=selector.transform(x_test)\n",
    "\n",
    "columns_skb=columns[selector.get_support()]\n",
    "\n",
    "skb=SelectKBest(score_func=f_classif,k=20)\n",
    "x_train_skb=skb.fit_transform(x_train_skb,y_train)\n",
    "x_test_skb=skb.transform(x_test_skb)\n",
    "\n",
    "\n",
    "selected_columns_skb=columns_skb[skb.get_support()]\n",
    "\n",
    "x_train_skb=pd.DataFrame(x_train_skb,columns=selected_columns_skb)\n",
    "x_test_skb=pd.DataFrame(x_test_skb,columns=selected_columns_skb)"
   ]
  },
  {
   "cell_type": "code",
   "execution_count": null,
   "id": "c16dfe41",
   "metadata": {},
   "outputs": [],
   "source": [
    "#-----------------------------------------------------------------#"
   ]
  },
  {
   "cell_type": "code",
   "execution_count": null,
   "id": "f6b40274",
   "metadata": {},
   "outputs": [],
   "source": []
  },
  {
   "cell_type": "code",
   "execution_count": null,
   "id": "e72a7621",
   "metadata": {},
   "outputs": [],
   "source": []
  }
 ],
 "metadata": {
  "kernelspec": {
   "display_name": "Python 3 (ipykernel)",
   "language": "python",
   "name": "python3"
  },
  "language_info": {
   "codemirror_mode": {
    "name": "ipython",
    "version": 3
   },
   "file_extension": ".py",
   "mimetype": "text/x-python",
   "name": "python",
   "nbconvert_exporter": "python",
   "pygments_lexer": "ipython3",
   "version": "3.10.3"
  }
 },
 "nbformat": 4,
 "nbformat_minor": 5
}
