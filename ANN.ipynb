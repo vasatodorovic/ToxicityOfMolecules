{
 "cells": [
  {
   "cell_type": "code",
   "execution_count": 131,
   "id": "08584afe",
   "metadata": {},
   "outputs": [],
   "source": [
    "\n",
    "import numpy as np\n",
    "import pandas as pd\n",
    "import tensorflow as tf\n",
    "from tensorflow.keras import regularizers\n",
    "from sklearn.compose import ColumnTransformer\n",
    "from sklearn.preprocessing import OneHotEncoder\n",
    "from sklearn.preprocessing import LabelEncoder\n",
    "from sklearn.model_selection import train_test_split\n",
    "from sklearn.preprocessing import StandardScaler\n",
    "from sklearn.metrics import confusion_matrix, accuracy_score"
   ]
  },
  {
   "cell_type": "code",
   "execution_count": 132,
   "id": "9dbc4d5a",
   "metadata": {},
   "outputs": [],
   "source": [
    "x_train=pd.read_csv('x_train_data.csv')\n",
    "x_test=pd.read_csv('x_test_data.csv')\n",
    "y_train=pd.read_csv('y_train.csv')\n",
    "y_test=pd.read_csv('y_test.csv')"
   ]
  },
  {
   "cell_type": "code",
   "execution_count": 133,
   "id": "2927310f",
   "metadata": {},
   "outputs": [],
   "source": [
    "sc=StandardScaler()\n",
    "x_train=sc.fit_transform(x_train)\n",
    "x_test=sc.transform(x_test)"
   ]
  },
  {
   "cell_type": "code",
   "execution_count": 134,
   "id": "17366b89",
   "metadata": {},
   "outputs": [],
   "source": [
    "#--------------BUILDING MODEL----------------#\n",
    "ann=tf.keras.models.Sequential()\n",
    "ann.add(tf.keras.layers.Dense(units=50,activation='relu',activity_regularizer=regularizers.L2(1e-2),kernel_regularizer=regularizers.L1L2()))\n",
    "#ann.add(tf.keras.layers.Dense(units=50,activation='relu',activity_regularizer=regularizers.L2(1e-1),kernel_regularizer=regularizers.L1L2()))\n",
    "ann.add(tf.keras.layers.Dense(units=30,activation='relu',activity_regularizer=regularizers.L2(1e-2),kernel_regularizer=regularizers.L1L2()))\n",
    "ann.add(tf.keras.layers.Dense(units=1,activation='sigmoid'))"
   ]
  },
  {
   "cell_type": "code",
   "execution_count": 135,
   "id": "80eea44d",
   "metadata": {},
   "outputs": [],
   "source": [
    "ann.compile(optimizer = 'adam', loss = 'binary_crossentropy', metrics = ['accuracy'])"
   ]
  },
  {
   "cell_type": "code",
   "execution_count": 136,
   "id": "26bb6f97",
   "metadata": {
    "scrolled": false
   },
   "outputs": [
    {
     "name": "stdout",
     "output_type": "stream",
     "text": [
      "Epoch 1/100\n",
      "5/5 [==============================] - 2s 4ms/step - loss: 2.4894 - accuracy: 0.3309\n",
      "Epoch 2/100\n",
      "5/5 [==============================] - 0s 5ms/step - loss: 2.2980 - accuracy: 0.3456\n",
      "Epoch 3/100\n",
      "5/5 [==============================] - 0s 5ms/step - loss: 2.1552 - accuracy: 0.3382\n",
      "Epoch 4/100\n",
      "5/5 [==============================] - 0s 5ms/step - loss: 2.0610 - accuracy: 0.3382\n",
      "Epoch 5/100\n",
      "5/5 [==============================] - 0s 4ms/step - loss: 1.9820 - accuracy: 0.3382\n",
      "Epoch 6/100\n",
      "5/5 [==============================] - 0s 5ms/step - loss: 1.9334 - accuracy: 0.3456\n",
      "Epoch 7/100\n",
      "5/5 [==============================] - 0s 4ms/step - loss: 1.8882 - accuracy: 0.3456\n",
      "Epoch 8/100\n",
      "5/5 [==============================] - 0s 3ms/step - loss: 1.8561 - accuracy: 0.3529\n",
      "Epoch 9/100\n",
      "5/5 [==============================] - 0s 5ms/step - loss: 1.8223 - accuracy: 0.3603\n",
      "Epoch 10/100\n",
      "5/5 [==============================] - 0s 3ms/step - loss: 1.7913 - accuracy: 0.3603\n",
      "Epoch 11/100\n",
      "5/5 [==============================] - 0s 4ms/step - loss: 1.7637 - accuracy: 0.3676\n",
      "Epoch 12/100\n",
      "5/5 [==============================] - 0s 4ms/step - loss: 1.7397 - accuracy: 0.3750\n",
      "Epoch 13/100\n",
      "5/5 [==============================] - 0s 3ms/step - loss: 1.7169 - accuracy: 0.3897\n",
      "Epoch 14/100\n",
      "5/5 [==============================] - 0s 6ms/step - loss: 1.6986 - accuracy: 0.3897\n",
      "Epoch 15/100\n",
      "5/5 [==============================] - 0s 6ms/step - loss: 1.6807 - accuracy: 0.4118\n",
      "Epoch 16/100\n",
      "5/5 [==============================] - 0s 4ms/step - loss: 1.6625 - accuracy: 0.4118\n",
      "Epoch 17/100\n",
      "5/5 [==============================] - 0s 4ms/step - loss: 1.6483 - accuracy: 0.4338\n",
      "Epoch 18/100\n",
      "5/5 [==============================] - 0s 7ms/step - loss: 1.6348 - accuracy: 0.4338\n",
      "Epoch 19/100\n",
      "5/5 [==============================] - 0s 4ms/step - loss: 1.6152 - accuracy: 0.4412\n",
      "Epoch 20/100\n",
      "5/5 [==============================] - 0s 4ms/step - loss: 1.6019 - accuracy: 0.4485\n",
      "Epoch 21/100\n",
      "5/5 [==============================] - 0s 5ms/step - loss: 1.5899 - accuracy: 0.4559\n",
      "Epoch 22/100\n",
      "5/5 [==============================] - 0s 4ms/step - loss: 1.5743 - accuracy: 0.4559\n",
      "Epoch 23/100\n",
      "5/5 [==============================] - 0s 5ms/step - loss: 1.5613 - accuracy: 0.4485\n",
      "Epoch 24/100\n",
      "5/5 [==============================] - 0s 4ms/step - loss: 1.5463 - accuracy: 0.4559\n",
      "Epoch 25/100\n",
      "5/5 [==============================] - 0s 11ms/step - loss: 1.5352 - accuracy: 0.4632\n",
      "Epoch 26/100\n",
      "5/5 [==============================] - 0s 6ms/step - loss: 1.5234 - accuracy: 0.4632\n",
      "Epoch 27/100\n",
      "5/5 [==============================] - 0s 5ms/step - loss: 1.5102 - accuracy: 0.4779\n",
      "Epoch 28/100\n",
      "5/5 [==============================] - 0s 4ms/step - loss: 1.4989 - accuracy: 0.4779\n",
      "Epoch 29/100\n",
      "5/5 [==============================] - 0s 4ms/step - loss: 1.4848 - accuracy: 0.4779\n",
      "Epoch 30/100\n",
      "5/5 [==============================] - 0s 4ms/step - loss: 1.4734 - accuracy: 0.4926\n",
      "Epoch 31/100\n",
      "5/5 [==============================] - 0s 6ms/step - loss: 1.4636 - accuracy: 0.5000\n",
      "Epoch 32/100\n",
      "5/5 [==============================] - 0s 4ms/step - loss: 1.4530 - accuracy: 0.5147\n",
      "Epoch 33/100\n",
      "5/5 [==============================] - 0s 4ms/step - loss: 1.4416 - accuracy: 0.5147\n",
      "Epoch 34/100\n",
      "5/5 [==============================] - 0s 4ms/step - loss: 1.4304 - accuracy: 0.5147\n",
      "Epoch 35/100\n",
      "5/5 [==============================] - 0s 4ms/step - loss: 1.4229 - accuracy: 0.5147\n",
      "Epoch 36/100\n",
      "5/5 [==============================] - 0s 4ms/step - loss: 1.4168 - accuracy: 0.5147\n",
      "Epoch 37/100\n",
      "5/5 [==============================] - 0s 4ms/step - loss: 1.4071 - accuracy: 0.5147\n",
      "Epoch 38/100\n",
      "5/5 [==============================] - 0s 4ms/step - loss: 1.3966 - accuracy: 0.5147\n",
      "Epoch 39/100\n",
      "5/5 [==============================] - 0s 4ms/step - loss: 1.3886 - accuracy: 0.5147\n",
      "Epoch 40/100\n",
      "5/5 [==============================] - 0s 5ms/step - loss: 1.3788 - accuracy: 0.5147\n",
      "Epoch 41/100\n",
      "5/5 [==============================] - 0s 4ms/step - loss: 1.3764 - accuracy: 0.5147\n",
      "Epoch 42/100\n",
      "5/5 [==============================] - 0s 4ms/step - loss: 1.3684 - accuracy: 0.5147\n",
      "Epoch 43/100\n",
      "5/5 [==============================] - 0s 5ms/step - loss: 1.3583 - accuracy: 0.5147\n",
      "Epoch 44/100\n",
      "5/5 [==============================] - 0s 5ms/step - loss: 1.3468 - accuracy: 0.5147\n",
      "Epoch 45/100\n",
      "5/5 [==============================] - 0s 4ms/step - loss: 1.3381 - accuracy: 0.5147\n",
      "Epoch 46/100\n",
      "5/5 [==============================] - 0s 4ms/step - loss: 1.3280 - accuracy: 0.5221\n",
      "Epoch 47/100\n",
      "5/5 [==============================] - 0s 4ms/step - loss: 1.3232 - accuracy: 0.5221\n",
      "Epoch 48/100\n",
      "5/5 [==============================] - 0s 6ms/step - loss: 1.3117 - accuracy: 0.5221\n",
      "Epoch 49/100\n",
      "5/5 [==============================] - 0s 5ms/step - loss: 1.3039 - accuracy: 0.5221\n",
      "Epoch 50/100\n",
      "5/5 [==============================] - 0s 5ms/step - loss: 1.2947 - accuracy: 0.5294\n",
      "Epoch 51/100\n",
      "5/5 [==============================] - 0s 4ms/step - loss: 1.2860 - accuracy: 0.5368\n",
      "Epoch 52/100\n",
      "5/5 [==============================] - 0s 4ms/step - loss: 1.2772 - accuracy: 0.5441\n",
      "Epoch 53/100\n",
      "5/5 [==============================] - 0s 5ms/step - loss: 1.2729 - accuracy: 0.5515\n",
      "Epoch 54/100\n",
      "5/5 [==============================] - 0s 4ms/step - loss: 1.2688 - accuracy: 0.5515\n",
      "Epoch 55/100\n",
      "5/5 [==============================] - 0s 5ms/step - loss: 1.2611 - accuracy: 0.5441\n",
      "Epoch 56/100\n",
      "5/5 [==============================] - 0s 5ms/step - loss: 1.2473 - accuracy: 0.5588\n",
      "Epoch 57/100\n",
      "5/5 [==============================] - 0s 5ms/step - loss: 1.2398 - accuracy: 0.5588\n",
      "Epoch 58/100\n",
      "5/5 [==============================] - 0s 5ms/step - loss: 1.2311 - accuracy: 0.5588\n",
      "Epoch 59/100\n",
      "5/5 [==============================] - 0s 4ms/step - loss: 1.2246 - accuracy: 0.5588\n",
      "Epoch 60/100\n",
      "5/5 [==============================] - 0s 5ms/step - loss: 1.2165 - accuracy: 0.5662\n",
      "Epoch 61/100\n",
      "5/5 [==============================] - 0s 8ms/step - loss: 1.2073 - accuracy: 0.5809\n",
      "Epoch 62/100\n",
      "5/5 [==============================] - 0s 12ms/step - loss: 1.1999 - accuracy: 0.5809\n",
      "Epoch 63/100\n",
      "5/5 [==============================] - 0s 4ms/step - loss: 1.1902 - accuracy: 0.5809\n",
      "Epoch 64/100\n",
      "5/5 [==============================] - 0s 4ms/step - loss: 1.1798 - accuracy: 0.5882\n",
      "Epoch 65/100\n",
      "5/5 [==============================] - 0s 4ms/step - loss: 1.1740 - accuracy: 0.5882\n",
      "Epoch 66/100\n",
      "5/5 [==============================] - 0s 4ms/step - loss: 1.1670 - accuracy: 0.5809\n",
      "Epoch 67/100\n",
      "5/5 [==============================] - 0s 4ms/step - loss: 1.1577 - accuracy: 0.5809\n",
      "Epoch 68/100\n",
      "5/5 [==============================] - 0s 4ms/step - loss: 1.1512 - accuracy: 0.5809\n",
      "Epoch 69/100\n",
      "5/5 [==============================] - 0s 4ms/step - loss: 1.1418 - accuracy: 0.6176\n",
      "Epoch 70/100\n",
      "5/5 [==============================] - 0s 3ms/step - loss: 1.1381 - accuracy: 0.6250\n",
      "Epoch 71/100\n",
      "5/5 [==============================] - 0s 4ms/step - loss: 1.1338 - accuracy: 0.6176\n",
      "Epoch 72/100\n",
      "5/5 [==============================] - 0s 4ms/step - loss: 1.1223 - accuracy: 0.6176\n",
      "Epoch 73/100\n",
      "5/5 [==============================] - 0s 4ms/step - loss: 1.1133 - accuracy: 0.6250\n",
      "Epoch 74/100\n",
      "5/5 [==============================] - 0s 4ms/step - loss: 1.1076 - accuracy: 0.6324\n",
      "Epoch 75/100\n",
      "5/5 [==============================] - 0s 4ms/step - loss: 1.0979 - accuracy: 0.6324\n",
      "Epoch 76/100\n",
      "5/5 [==============================] - 0s 4ms/step - loss: 1.0894 - accuracy: 0.6324\n",
      "Epoch 77/100\n",
      "5/5 [==============================] - 0s 4ms/step - loss: 1.0814 - accuracy: 0.6324\n",
      "Epoch 78/100\n",
      "5/5 [==============================] - 0s 4ms/step - loss: 1.0733 - accuracy: 0.6324\n",
      "Epoch 79/100\n",
      "5/5 [==============================] - 0s 4ms/step - loss: 1.0651 - accuracy: 0.6471\n",
      "Epoch 80/100\n",
      "5/5 [==============================] - 0s 4ms/step - loss: 1.0561 - accuracy: 0.6544\n",
      "Epoch 81/100\n",
      "5/5 [==============================] - 0s 4ms/step - loss: 1.0488 - accuracy: 0.6618\n",
      "Epoch 82/100\n",
      "5/5 [==============================] - 0s 4ms/step - loss: 1.0394 - accuracy: 0.6618\n",
      "Epoch 83/100\n",
      "5/5 [==============================] - 0s 4ms/step - loss: 1.0391 - accuracy: 0.6544\n",
      "Epoch 84/100\n"
     ]
    },
    {
     "name": "stdout",
     "output_type": "stream",
     "text": [
      "5/5 [==============================] - 0s 4ms/step - loss: 1.0304 - accuracy: 0.6544\n",
      "Epoch 85/100\n",
      "5/5 [==============================] - 0s 4ms/step - loss: 1.0185 - accuracy: 0.6544\n",
      "Epoch 86/100\n",
      "5/5 [==============================] - 0s 4ms/step - loss: 1.0100 - accuracy: 0.6618\n",
      "Epoch 87/100\n",
      "5/5 [==============================] - 0s 4ms/step - loss: 1.0037 - accuracy: 0.6691\n",
      "Epoch 88/100\n",
      "5/5 [==============================] - 0s 5ms/step - loss: 0.9970 - accuracy: 0.6765\n",
      "Epoch 89/100\n",
      "5/5 [==============================] - 0s 4ms/step - loss: 0.9841 - accuracy: 0.6691\n",
      "Epoch 90/100\n",
      "5/5 [==============================] - 0s 4ms/step - loss: 0.9910 - accuracy: 0.6691\n",
      "Epoch 91/100\n",
      "5/5 [==============================] - 0s 5ms/step - loss: 0.9799 - accuracy: 0.6765\n",
      "Epoch 92/100\n",
      "5/5 [==============================] - 0s 4ms/step - loss: 0.9722 - accuracy: 0.6985\n",
      "Epoch 93/100\n",
      "5/5 [==============================] - 0s 4ms/step - loss: 0.9589 - accuracy: 0.6912\n",
      "Epoch 94/100\n",
      "5/5 [==============================] - 0s 6ms/step - loss: 0.9514 - accuracy: 0.6912\n",
      "Epoch 95/100\n",
      "5/5 [==============================] - 0s 5ms/step - loss: 0.9439 - accuracy: 0.6985\n",
      "Epoch 96/100\n",
      "5/5 [==============================] - 0s 5ms/step - loss: 0.9334 - accuracy: 0.6912\n",
      "Epoch 97/100\n",
      "5/5 [==============================] - 0s 4ms/step - loss: 0.9272 - accuracy: 0.6912\n",
      "Epoch 98/100\n",
      "5/5 [==============================] - 0s 16ms/step - loss: 0.9203 - accuracy: 0.7059\n",
      "Epoch 99/100\n",
      "5/5 [==============================] - 0s 6ms/step - loss: 0.9125 - accuracy: 0.7206\n",
      "Epoch 100/100\n",
      "5/5 [==============================] - 0s 6ms/step - loss: 0.9072 - accuracy: 0.7353\n"
     ]
    },
    {
     "data": {
      "text/plain": [
       "<keras.callbacks.History at 0x20d8a8b4730>"
      ]
     },
     "execution_count": 136,
     "metadata": {},
     "output_type": "execute_result"
    }
   ],
   "source": [
    "ann.fit(x_train, y_train, batch_size = 32, epochs = 100,class_weight={0:1,1:10})"
   ]
  },
  {
   "cell_type": "code",
   "execution_count": 140,
   "id": "92dde0a9",
   "metadata": {},
   "outputs": [
    {
     "name": "stdout",
     "output_type": "stream",
     "text": [
      "2/2 [==============================] - 0s 4ms/step\n"
     ]
    }
   ],
   "source": [
    "y_pred_prob = ann.predict(x_test)"
   ]
  },
  {
   "cell_type": "code",
   "execution_count": 141,
   "id": "aa72af8e",
   "metadata": {},
   "outputs": [],
   "source": [
    "y_pred = (y_pred_prob > 0.5)"
   ]
  },
  {
   "cell_type": "code",
   "execution_count": 142,
   "id": "5cd18a9d",
   "metadata": {},
   "outputs": [
    {
     "name": "stdout",
     "output_type": "stream",
     "text": [
      "Accuracy Score 0.6\n"
     ]
    }
   ],
   "source": [
    "confusion = confusion_matrix(y_test, y_pred)\n",
    "#print(\"Confusion Matrix\", confusion_matrix)\n",
    "print(\"Accuracy Score\", accuracy_score(y_test, y_pred))"
   ]
  },
  {
   "cell_type": "code",
   "execution_count": 144,
   "id": "f23acdc4",
   "metadata": {},
   "outputs": [
    {
     "data": {
      "text/plain": [
       "array([[14, 10],\n",
       "       [ 4,  7]], dtype=int64)"
      ]
     },
     "execution_count": 144,
     "metadata": {},
     "output_type": "execute_result"
    }
   ],
   "source": [
    "confusion"
   ]
  },
  {
   "cell_type": "code",
   "execution_count": null,
   "id": "aa4d1629",
   "metadata": {},
   "outputs": [],
   "source": []
  }
 ],
 "metadata": {
  "kernelspec": {
   "display_name": "Python 3 (ipykernel)",
   "language": "python",
   "name": "python3"
  },
  "language_info": {
   "codemirror_mode": {
    "name": "ipython",
    "version": 3
   },
   "file_extension": ".py",
   "mimetype": "text/x-python",
   "name": "python",
   "nbconvert_exporter": "python",
   "pygments_lexer": "ipython3",
   "version": "3.10.3"
  }
 },
 "nbformat": 4,
 "nbformat_minor": 5
}
