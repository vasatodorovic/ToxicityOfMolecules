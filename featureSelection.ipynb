{
 "cells": [
  {
   "cell_type": "code",
   "execution_count": 591,
   "id": "58726ee8",
   "metadata": {},
   "outputs": [],
   "source": [
    "import pandas as pd\n",
    "import numpy as np\n",
    "import matplotlib.pyplot as plt"
   ]
  },
  {
   "cell_type": "code",
   "execution_count": 592,
   "id": "10a16cf0",
   "metadata": {},
   "outputs": [],
   "source": [
    "data=pd.read_csv('C:/Users/KORISNIK/Desktop/ToxicityOfMolecules/data.csv')\n",
    "data2=pd.read_csv('C:/Users/KORISNIK/Desktop/ToxicityOfMolecules/Toxicity-13F.csv')"
   ]
  },
  {
   "cell_type": "code",
   "execution_count": 593,
   "id": "9166eda6",
   "metadata": {},
   "outputs": [
    {
     "data": {
      "text/plain": [
       "(171, 1204)"
      ]
     },
     "execution_count": 593,
     "metadata": {},
     "output_type": "execute_result"
    }
   ],
   "source": [
    "data.shape"
   ]
  },
  {
   "cell_type": "code",
   "execution_count": 594,
   "id": "a666594a",
   "metadata": {},
   "outputs": [],
   "source": [
    "from sklearn.preprocessing import LabelEncoder\n",
    "le = LabelEncoder()\n",
    "data.iloc[:,-1]=le.fit_transform(data.iloc[:,-1])"
   ]
  },
  {
   "cell_type": "code",
   "execution_count": 595,
   "id": "5bcf4cdb",
   "metadata": {},
   "outputs": [
    {
     "data": {
      "text/plain": [
       "0      0\n",
       "1      0\n",
       "2      0\n",
       "3      0\n",
       "4      0\n",
       "      ..\n",
       "166    0\n",
       "167    0\n",
       "168    0\n",
       "169    1\n",
       "170    1\n",
       "Name: Class, Length: 171, dtype: int32"
      ]
     },
     "execution_count": 595,
     "metadata": {},
     "output_type": "execute_result"
    }
   ],
   "source": [
    "y=data.iloc[:,-1]\n",
    "y1=data2.iloc[:,-1]\n",
    "y"
   ]
  },
  {
   "cell_type": "code",
   "execution_count": 596,
   "id": "e38884d8",
   "metadata": {},
   "outputs": [],
   "source": [
    "x=data.iloc[:,:-1]\n",
    "x1=data2.iloc[:,:-1]\n",
    "columns=x.columns"
   ]
  },
  {
   "cell_type": "code",
   "execution_count": 597,
   "id": "21baf128",
   "metadata": {},
   "outputs": [
    {
     "name": "stdout",
     "output_type": "stream",
     "text": [
      "False\n"
     ]
    }
   ],
   "source": [
    "# check if there are any missing values in the entire dataset\n",
    "print(data.isnull().any().any())"
   ]
  },
  {
   "cell_type": "code",
   "execution_count": 598,
   "id": "9e1d235c",
   "metadata": {},
   "outputs": [],
   "source": [
    "from sklearn.model_selection import train_test_split\n",
    "x_train,x_test,y_train,y_test=train_test_split(x,y,test_size=0.2,stratify=y,random_state=42)\n",
    "x_train1,x_test1,y_train1,y_test1=train_test_split(x1,y1,test_size=0.2,stratify=y,random_state=42)"
   ]
  },
  {
   "cell_type": "code",
   "execution_count": 599,
   "id": "c351f526",
   "metadata": {},
   "outputs": [
    {
     "data": {
      "text/plain": [
       "(136, 1203)"
      ]
     },
     "execution_count": 599,
     "metadata": {},
     "output_type": "execute_result"
    }
   ],
   "source": [
    "x_train.shape"
   ]
  },
  {
   "cell_type": "code",
   "execution_count": 600,
   "id": "459e9d69",
   "metadata": {},
   "outputs": [
    {
     "data": {
      "text/plain": [
       "(35, 1203)"
      ]
     },
     "execution_count": 600,
     "metadata": {},
     "output_type": "execute_result"
    }
   ],
   "source": [
    "x_test.shape"
   ]
  },
  {
   "cell_type": "code",
   "execution_count": 601,
   "id": "ae385926",
   "metadata": {},
   "outputs": [],
   "source": [
    "from sklearn.feature_selection import VarianceThreshold"
   ]
  },
  {
   "cell_type": "code",
   "execution_count": 602,
   "id": "c7f7586e",
   "metadata": {},
   "outputs": [],
   "source": [
    "'''VarianceThreshold Feature Selection'''\n",
    "vt=VarianceThreshold(0.2)\n",
    "x_train_vt=vt.fit_transform(x_train)\n",
    "x_test_vt=vt.transform(x_test)"
   ]
  },
  {
   "cell_type": "code",
   "execution_count": 603,
   "id": "d0f57361",
   "metadata": {},
   "outputs": [
    {
     "data": {
      "text/plain": [
       "(136, 624)"
      ]
     },
     "execution_count": 603,
     "metadata": {},
     "output_type": "execute_result"
    }
   ],
   "source": [
    "x_train_vt.shape"
   ]
  },
  {
   "cell_type": "code",
   "execution_count": 604,
   "id": "71b670d0",
   "metadata": {},
   "outputs": [
    {
     "data": {
      "text/plain": [
       "(35, 624)"
      ]
     },
     "execution_count": 604,
     "metadata": {},
     "output_type": "execute_result"
    }
   ],
   "source": [
    "x_test_vt.shape"
   ]
  },
  {
   "cell_type": "code",
   "execution_count": 605,
   "id": "91db2086",
   "metadata": {},
   "outputs": [],
   "source": [
    "selected_columns_vt=columns[vt.get_support()]"
   ]
  },
  {
   "cell_type": "code",
   "execution_count": 606,
   "id": "efc67952",
   "metadata": {},
   "outputs": [],
   "source": [
    "x_train_vt=pd.DataFrame(x_train_vt,columns=selected_columns_vt)\n",
    "x_test_vt=pd.DataFrame(x_test_vt,columns=selected_columns_vt)"
   ]
  },
  {
   "cell_type": "code",
   "execution_count": 607,
   "id": "171ea255",
   "metadata": {},
   "outputs": [],
   "source": [
    "#---------------------------------------------------------#\n",
    "#                   FEATURE SELECTION"
   ]
  },
  {
   "cell_type": "code",
   "execution_count": 608,
   "id": "ae5feaa8",
   "metadata": {},
   "outputs": [],
   "source": [
    "'''SelectKBest Feature Selection'''\n",
    "''' F-value => razlika sr.vr izmedju klasa normalizovano varijansama\n",
    "                visoka f vrednost -> velika povezanost atributa sa \n",
    "                ciljnom\n",
    "    p-vrednost => vrv da je povezanost atributa i ciljne SLUCAJNA\n",
    "                niska p vrednost => povezanost je znacajna, \n",
    "                                    vrv nije slucajnost\n",
    "'''\n",
    "p=4"
   ]
  },
  {
   "cell_type": "code",
   "execution_count": 609,
   "id": "c9b13801",
   "metadata": {},
   "outputs": [],
   "source": [
    "from sklearn.feature_selection import f_classif, SelectKBest"
   ]
  },
  {
   "cell_type": "code",
   "execution_count": 610,
   "id": "cf420083",
   "metadata": {},
   "outputs": [],
   "source": [
    "selector=VarianceThreshold(threshold=0.2) \n",
    "#uklanjamo konstantne atr -> izlazio mi je warning\n",
    "\n",
    "#C:\\Users\\KORISNIK\\AppData\\Local\\Programs\\Python\\Python310\\lib\\site-packages\\sklearn\\feature_selection\\_univariate_selection.py:112: \n",
    " #       UserWarning: Features [ 203  214  253  378  702  759  989 1028 1035 1110] \n",
    "  #      are constant.\n",
    "  #warnings.warn(\"Features %s are constant.\" % constant_features_idx, UserWarning)\n",
    "#C:\\Users\\KORISNIK\\AppData\\Local\\Programs\\Python\\Python310\\lib\\site-packages\\sklearn\\feature_selection\\_univariate_selection.py:113: RuntimeWarning: invalid value encountered i\n",
    "#n true_dividef = msb \\ msw \n",
    "'''imamo [ 203  214  253  378  702  759  989 1028 1035 1110] kao\n",
    "konstante atribute, samo instanca 92. nije konstantna'''\n",
    "\n",
    "x_train_skb=selector.fit_transform(x_train)\n",
    "x_test_skb=selector.transform(x_test)\n",
    "\n",
    "columns_skb=columns[selector.get_support()]\n",
    "\n",
    "skb=SelectKBest(score_func=f_classif,k=20)\n",
    "x_train_skb=skb.fit_transform(x_train_skb,y_train)\n",
    "x_test_skb=skb.transform(x_test_skb)\n",
    "\n",
    "\n",
    "selected_columns_skb=columns_skb[skb.get_support()]\n",
    "\n",
    "x_train_skb=pd.DataFrame(x_train_skb,columns=selected_columns_skb)\n",
    "x_test_skb=pd.DataFrame(x_test_skb,columns=selected_columns_skb)"
   ]
  },
  {
   "cell_type": "code",
   "execution_count": 611,
   "id": "8b77f073",
   "metadata": {},
   "outputs": [],
   "source": [
    "x_train_skb.to_csv('x_train_data.csv',index=False)\n",
    "x_test_skb.to_csv('x_test_data.csv',index=False)"
   ]
  },
  {
   "cell_type": "code",
   "execution_count": 612,
   "id": "34779476",
   "metadata": {},
   "outputs": [],
   "source": [
    "y_train.to_csv('y_train.csv',index=False)\n",
    "y_test.to_csv('y_test.csv',index=False)"
   ]
  },
  {
   "cell_type": "code",
   "execution_count": null,
   "id": "367d6712",
   "metadata": {},
   "outputs": [],
   "source": []
  },
  {
   "cell_type": "code",
   "execution_count": null,
   "id": "69ff7917",
   "metadata": {},
   "outputs": [],
   "source": []
  },
  {
   "cell_type": "code",
   "execution_count": null,
   "id": "5f08a4ca",
   "metadata": {},
   "outputs": [],
   "source": []
  },
  {
   "cell_type": "code",
   "execution_count": null,
   "id": "aee2c75b",
   "metadata": {},
   "outputs": [],
   "source": []
  },
  {
   "cell_type": "code",
   "execution_count": null,
   "id": "afa8d81c",
   "metadata": {},
   "outputs": [],
   "source": []
  },
  {
   "cell_type": "code",
   "execution_count": null,
   "id": "b9d3bd08",
   "metadata": {},
   "outputs": [],
   "source": []
  },
  {
   "cell_type": "code",
   "execution_count": null,
   "id": "531116e0",
   "metadata": {},
   "outputs": [],
   "source": []
  },
  {
   "cell_type": "code",
   "execution_count": null,
   "id": "0caa2534",
   "metadata": {},
   "outputs": [],
   "source": []
  },
  {
   "cell_type": "code",
   "execution_count": null,
   "id": "01082bd5",
   "metadata": {},
   "outputs": [],
   "source": []
  },
  {
   "cell_type": "code",
   "execution_count": null,
   "id": "3170131c",
   "metadata": {},
   "outputs": [],
   "source": []
  },
  {
   "cell_type": "code",
   "execution_count": null,
   "id": "408f3cf5",
   "metadata": {},
   "outputs": [],
   "source": []
  },
  {
   "cell_type": "code",
   "execution_count": null,
   "id": "a7b4f94a",
   "metadata": {},
   "outputs": [],
   "source": []
  },
  {
   "cell_type": "code",
   "execution_count": null,
   "id": "2a32e2a9",
   "metadata": {},
   "outputs": [],
   "source": []
  },
  {
   "cell_type": "code",
   "execution_count": null,
   "id": "667b86a6",
   "metadata": {},
   "outputs": [],
   "source": []
  },
  {
   "cell_type": "code",
   "execution_count": null,
   "id": "7adf9217",
   "metadata": {},
   "outputs": [],
   "source": []
  },
  {
   "cell_type": "code",
   "execution_count": null,
   "id": "47d3716e",
   "metadata": {},
   "outputs": [],
   "source": []
  },
  {
   "cell_type": "code",
   "execution_count": null,
   "id": "66e7a086",
   "metadata": {},
   "outputs": [],
   "source": []
  },
  {
   "cell_type": "code",
   "execution_count": null,
   "id": "aa398915",
   "metadata": {},
   "outputs": [],
   "source": []
  },
  {
   "cell_type": "code",
   "execution_count": null,
   "id": "8866798f",
   "metadata": {},
   "outputs": [],
   "source": []
  }
 ],
 "metadata": {
  "kernelspec": {
   "display_name": "Python 3 (ipykernel)",
   "language": "python",
   "name": "python3"
  },
  "language_info": {
   "codemirror_mode": {
    "name": "ipython",
    "version": 3
   },
   "file_extension": ".py",
   "mimetype": "text/x-python",
   "name": "python",
   "nbconvert_exporter": "python",
   "pygments_lexer": "ipython3",
   "version": "3.10.3"
  }
 },
 "nbformat": 4,
 "nbformat_minor": 5
}
