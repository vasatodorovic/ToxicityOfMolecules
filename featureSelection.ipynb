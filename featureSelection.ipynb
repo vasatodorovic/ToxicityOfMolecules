{
 "cells": [
  {
   "cell_type": "code",
   "execution_count": 635,
   "id": "58726ee8",
   "metadata": {},
   "outputs": [],
   "source": [
    "import pandas as pd\n",
    "import numpy as np\n",
    "import matplotlib.pyplot as plt"
   ]
  },
  {
   "cell_type": "code",
   "execution_count": 636,
   "id": "4a6cca9e",
   "metadata": {},
   "outputs": [
    {
     "data": {
      "text/plain": [
       "(171, 1204)"
      ]
     },
     "execution_count": 636,
     "metadata": {},
     "output_type": "execute_result"
    }
   ],
   "source": [
    "data=pd.read_csv('C:/Users/KORISNIK/Desktop/ToxicityOfMolecules/data.csv')\n",
    "data.shape"
   ]
  },
  {
   "cell_type": "code",
   "execution_count": 637,
   "id": "9df858b7",
   "metadata": {},
   "outputs": [
    {
     "name": "stdout",
     "output_type": "stream",
     "text": [
      "False\n"
     ]
    }
   ],
   "source": [
    "# check if there are any missing values in the entire dataset\n",
    "print(data.isnull().any().any())"
   ]
  },
  {
   "cell_type": "code",
   "execution_count": 638,
   "id": "253e3455",
   "metadata": {},
   "outputs": [],
   "source": [
    "#pr\n",
    "from sklearn.preprocessing import LabelEncoder\n",
    "le = LabelEncoder()\n",
    "data.iloc[:,-1]=le.fit_transform(data.iloc[:,-1])"
   ]
  },
  {
   "cell_type": "code",
   "execution_count": 639,
   "id": "802a2959",
   "metadata": {},
   "outputs": [],
   "source": [
    "x=data.iloc[:,:-1]\n",
    "y=data.iloc[:,-1]"
   ]
  },
  {
   "cell_type": "code",
   "execution_count": 640,
   "id": "4d93f968",
   "metadata": {},
   "outputs": [],
   "source": [
    "columns=x.columns"
   ]
  },
  {
   "cell_type": "code",
   "execution_count": 641,
   "id": "44808650",
   "metadata": {},
   "outputs": [],
   "source": [
    "from sklearn.model_selection import train_test_split\n",
    "x_train,x_test,y_train,y_test=train_test_split(x,y,test_size=0.2,stratify=y,random_state=42)"
   ]
  },
  {
   "cell_type": "code",
   "execution_count": 642,
   "id": "2384d4ef",
   "metadata": {},
   "outputs": [
    {
     "data": {
      "text/plain": [
       "(136, 1203)"
      ]
     },
     "execution_count": 642,
     "metadata": {},
     "output_type": "execute_result"
    }
   ],
   "source": [
    "x_train.shape"
   ]
  },
  {
   "cell_type": "code",
   "execution_count": 643,
   "id": "fa1ab4f6",
   "metadata": {},
   "outputs": [
    {
     "data": {
      "text/plain": [
       "(35, 1203)"
      ]
     },
     "execution_count": 643,
     "metadata": {},
     "output_type": "execute_result"
    }
   ],
   "source": [
    "x_test.shape"
   ]
  },
  {
   "cell_type": "code",
   "execution_count": 644,
   "id": "cfbc5796",
   "metadata": {},
   "outputs": [
    {
     "data": {
      "text/plain": [
       "' F-value => razlika sr.vr izmedju klasa normalizovano varijansama\\n                visoka f vrednost -> velika povezanost atributa sa \\n                ciljnom\\n    p-vrednost => vrv da je povezanost atributa i ciljne SLUCAJNA\\n                niska p vrednost => povezanost je znacajna, \\n                                    vrv nije slucajnost\\n'"
      ]
     },
     "execution_count": 644,
     "metadata": {},
     "output_type": "execute_result"
    }
   ],
   "source": [
    "#---------------------------------------------------------#\n",
    "#                   FEATURE SELECTION\n",
    "'''SelectKBest Feature Selection'''\n",
    "''' F-value => razlika sr.vr izmedju klasa normalizovano varijansama\n",
    "                visoka f vrednost -> velika povezanost atributa sa \n",
    "                ciljnom\n",
    "    p-vrednost => vrv da je povezanost atributa i ciljne SLUCAJNA\n",
    "                niska p vrednost => povezanost je znacajna, \n",
    "                                    vrv nije slucajnost\n",
    "'''\n",
    "#      uklanjamo konstantne atr -> izlazio mi je warning\n",
    "\n",
    "#      C:\\Users\\KORISNIK\\AppData\\Local\\Programs\\Python\\Python310\\lib\\site-packages\\sklearn\\feature_selection\\_univariate_selection.py:112: \n",
    "#      UserWarning: Features [ 203  214  253  378  702  759  989 1028 1035 1110] \n",
    "#      are constant.\n",
    "#      warnings.warn(\"Features %s are constant.\" % constant_features_idx, UserWarning)\n",
    "#      C:\\Users\\KORISNIK\\AppData\\Local\\Programs\\Python\\Python310\\lib\\site-packages\\sklearn\\feature_selection\\_univariate_selection.py:113: RuntimeWarning: invalid value encountered i\n",
    "#      n true_dividef = msb \\ msw \n",
    "\n",
    "#imamo [ 203  214  253  378  702  759  989 1028 1035 1110] kao\n",
    "#konstante atribute, samo instanca 92. nije konstantna'''"
   ]
  },
  {
   "cell_type": "code",
   "execution_count": 645,
   "id": "2e3acd11",
   "metadata": {},
   "outputs": [],
   "source": [
    "from sklearn.feature_selection import VarianceThreshold,f_classif, SelectKBest"
   ]
  },
  {
   "cell_type": "code",
   "execution_count": 646,
   "id": "06d566c6",
   "metadata": {},
   "outputs": [],
   "source": [
    "#removing attributes with low variance\n",
    "selector=VarianceThreshold(threshold=0.2) \n",
    "\n",
    "x_train_skb=selector.fit_transform(x_train)\n",
    "x_test_skb=selector.transform(x_test)\n",
    "\n",
    "columns_skb=columns[selector.get_support()]"
   ]
  },
  {
   "cell_type": "code",
   "execution_count": 647,
   "id": "e4d90941",
   "metadata": {},
   "outputs": [],
   "source": [
    "#selectin k best attributes\n",
    "skb=SelectKBest(score_func=f_classif,k=20)\n",
    "\n",
    "x_train_skb=skb.fit_transform(x_train_skb,y_train)\n",
    "x_test_skb=skb.transform(x_test_skb)\n",
    "\n",
    "selected_columns_skb=columns_skb[skb.get_support()]"
   ]
  },
  {
   "cell_type": "code",
   "execution_count": 648,
   "id": "c35538ce",
   "metadata": {},
   "outputs": [],
   "source": [
    "x_train_skb=pd.DataFrame(x_train_skb,columns=selected_columns_skb)\n",
    "x_test_skb=pd.DataFrame(x_test_skb,columns=selected_columns_skb)"
   ]
  },
  {
   "cell_type": "code",
   "execution_count": 649,
   "id": "3a293a70",
   "metadata": {},
   "outputs": [],
   "source": [
    "#saving data for later usage in modeling\n",
    "x_train_skb.to_csv('x_train_data.csv',index=False)\n",
    "x_test_skb.to_csv('x_test_data.csv',index=False)\n",
    "y_train.to_csv('y_train.csv',index=False)\n",
    "y_test.to_csv('y_test.csv',index=False)"
   ]
  }
 ],
 "metadata": {
  "kernelspec": {
   "display_name": "Python 3 (ipykernel)",
   "language": "python",
   "name": "python3"
  },
  "language_info": {
   "codemirror_mode": {
    "name": "ipython",
    "version": 3
   },
   "file_extension": ".py",
   "mimetype": "text/x-python",
   "name": "python",
   "nbconvert_exporter": "python",
   "pygments_lexer": "ipython3",
   "version": "3.10.3"
  }
 },
 "nbformat": 4,
 "nbformat_minor": 5
}
