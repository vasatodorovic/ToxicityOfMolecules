{
 "cells": [
  {
   "cell_type": "code",
   "execution_count": 650,
   "id": "58726ee8",
   "metadata": {},
   "outputs": [],
   "source": [
    "import pandas as pd\n",
    "import numpy as np\n",
    "import matplotlib.pyplot as plt"
   ]
  },
  {
   "cell_type": "code",
   "execution_count": 651,
   "id": "7a2481df",
   "metadata": {},
   "outputs": [
    {
     "data": {
      "text/plain": [
       "(171, 1204)"
      ]
     },
     "execution_count": 651,
     "metadata": {},
     "output_type": "execute_result"
    }
   ],
   "source": [
    "data=pd.read_csv('C:/Users/KORISNIK/Desktop/ToxicityOfMolecules/data.csv')\n",
    "data.shape"
   ]
  },
  {
   "cell_type": "code",
   "execution_count": 652,
   "id": "969b1ae9",
   "metadata": {},
   "outputs": [
    {
     "name": "stdout",
     "output_type": "stream",
     "text": [
      "False\n"
     ]
    }
   ],
   "source": [
    "# check if there are any missing values in the entire dataset\n",
    "print(data.isnull().any().any())"
   ]
  },
  {
   "cell_type": "code",
   "execution_count": 653,
   "id": "fbff369a",
   "metadata": {},
   "outputs": [],
   "source": [
    "#preprocessing cathegorical attribute to binary Toxic-1, NonToxic-0\n",
    "from sklearn.preprocessing import LabelEncoder\n",
    "\n",
    "le = LabelEncoder()\n",
    "data.iloc[:,-1]=le.fit_transform(data.iloc[:,-1])"
   ]
  },
  {
   "cell_type": "code",
   "execution_count": 654,
   "id": "3c34d49b",
   "metadata": {},
   "outputs": [],
   "source": [
    "x=data.iloc[:,:-1]\n",
    "y=data.iloc[:,-1]"
   ]
  },
  {
   "cell_type": "code",
   "execution_count": 655,
   "id": "9693403f",
   "metadata": {},
   "outputs": [],
   "source": [
    "columns=x.columns"
   ]
  },
  {
   "cell_type": "code",
   "execution_count": 656,
   "id": "965de926",
   "metadata": {},
   "outputs": [],
   "source": [
    "from sklearn.model_selection import train_test_split\n",
    "x_train,x_test,y_train,y_test=train_test_split(x,y,test_size=0.2,stratify=y,random_state=42)"
   ]
  },
  {
   "cell_type": "code",
   "execution_count": 657,
   "id": "9f10c6cc",
   "metadata": {},
   "outputs": [
    {
     "data": {
      "text/plain": [
       "(136, 1203)"
      ]
     },
     "execution_count": 657,
     "metadata": {},
     "output_type": "execute_result"
    }
   ],
   "source": [
    "x_train.shape"
   ]
  },
  {
   "cell_type": "code",
   "execution_count": 658,
   "id": "17b33a83",
   "metadata": {},
   "outputs": [
    {
     "data": {
      "text/plain": [
       "(35, 1203)"
      ]
     },
     "execution_count": 658,
     "metadata": {},
     "output_type": "execute_result"
    }
   ],
   "source": [
    "x_test.shape"
   ]
  },
  {
   "cell_type": "code",
   "execution_count": 659,
   "id": "26f01651",
   "metadata": {},
   "outputs": [
    {
     "data": {
      "text/plain": [
       "' F-value => razlika sr.vr izmedju klasa normalizovano varijansama\\n                visoka f vrednost -> velika povezanost atributa sa \\n                ciljnom\\n    p-vrednost => vrv da je povezanost atributa i ciljne SLUCAJNA\\n                niska p vrednost => povezanost je znacajna, \\n                                    vrv nije slucajnost\\n'"
      ]
     },
     "execution_count": 659,
     "metadata": {},
     "output_type": "execute_result"
    }
   ],
   "source": [
    "#---------------------------------------------------------#\n",
    "#                   FEATURE SELECTION\n",
    "'''SelectKBest Feature Selection'''\n",
    "''' F-value => razlika sr.vr izmedju klasa normalizovano varijansama\n",
    "                visoka f vrednost -> velika povezanost atributa sa \n",
    "                ciljnom\n",
    "    p-vrednost => vrv da je povezanost atributa i ciljne SLUCAJNA\n",
    "                niska p vrednost => povezanost je znacajna, \n",
    "                                    vrv nije slucajnost\n",
    "'''\n",
    "#      uklanjamo konstantne atr -> izlazio mi je warning\n",
    "\n",
    "#      C:\\Users\\KORISNIK\\AppData\\Local\\Programs\\Python\\Python310\\lib\\site-packages\\sklearn\\feature_selection\\_univariate_selection.py:112: \n",
    "#      UserWarning: Features [ 203  214  253  378  702  759  989 1028 1035 1110] \n",
    "#      are constant.\n",
    "#      warnings.warn(\"Features %s are constant.\" % constant_features_idx, UserWarning)\n",
    "#      C:\\Users\\KORISNIK\\AppData\\Local\\Programs\\Python\\Python310\\lib\\site-packages\\sklearn\\feature_selection\\_univariate_selection.py:113: RuntimeWarning: invalid value encountered i\n",
    "#      n true_dividef = msb \\ msw \n",
    "\n",
    "#imamo [ 203  214  253  378  702  759  989 1028 1035 1110] kao\n",
    "#konstante atribute, samo instanca 92. nije konstantna'''"
   ]
  },
  {
   "cell_type": "code",
   "execution_count": 660,
   "id": "6d69d8b8",
   "metadata": {},
   "outputs": [],
   "source": [
    "from sklearn.feature_selection import VarianceThreshold,f_classif, SelectKBest"
   ]
  },
  {
   "cell_type": "code",
   "execution_count": 661,
   "id": "a1f14992",
   "metadata": {},
   "outputs": [],
   "source": [
    "#removing attributes with low variance\n",
    "selector=VarianceThreshold(threshold=0.2) \n",
    "\n",
    "x_train_skb=selector.fit_transform(x_train)\n",
    "x_test_skb=selector.transform(x_test)\n",
    "\n",
    "columns_skb=columns[selector.get_support()]"
   ]
  },
  {
   "cell_type": "code",
   "execution_count": 662,
   "id": "d355dffc",
   "metadata": {},
   "outputs": [],
   "source": [
    "#selecting k best attributes\n",
    "skb=SelectKBest(score_func=f_classif,k=20)\n",
    "\n",
    "x_train_skb=skb.fit_transform(x_train_skb,y_train)\n",
    "x_test_skb=skb.transform(x_test_skb)\n",
    "\n",
    "selected_columns_skb=columns_skb[skb.get_support()]"
   ]
  },
  {
   "cell_type": "code",
   "execution_count": 663,
   "id": "18b49404",
   "metadata": {},
   "outputs": [],
   "source": [
    "x_train_skb=pd.DataFrame(x_train_skb,columns=selected_columns_skb)\n",
    "x_test_skb=pd.DataFrame(x_test_skb,columns=selected_columns_skb)"
   ]
  },
  {
   "cell_type": "code",
   "execution_count": 664,
   "id": "5b4e0f0b",
   "metadata": {},
   "outputs": [],
   "source": [
    "#saving data for later usage in modeling\n",
    "x_train_skb.to_csv('x_train_data.csv',index=False)\n",
    "x_test_skb.to_csv('x_test_data.csv',index=False)\n",
    "y_train.to_csv('y_train.csv',index=False)\n",
    "y_test.to_csv('y_test.csv',index=False)"
   ]
  },
  {
   "cell_type": "code",
   "execution_count": 672,
   "id": "4ee078d2",
   "metadata": {},
   "outputs": [],
   "source": [
    "scores=skb.scores_[skb.get_support()]\n",
    "p_values=skb.pvalues_[skb.get_support()]"
   ]
  },
  {
   "cell_type": "code",
   "execution_count": null,
   "id": "b9ff4068",
   "metadata": {},
   "outputs": [],
   "source": []
  }
 ],
 "metadata": {
  "kernelspec": {
   "display_name": "Python 3 (ipykernel)",
   "language": "python",
   "name": "python3"
  },
  "language_info": {
   "codemirror_mode": {
    "name": "ipython",
    "version": 3
   },
   "file_extension": ".py",
   "mimetype": "text/x-python",
   "name": "python",
   "nbconvert_exporter": "python",
   "pygments_lexer": "ipython3",
   "version": "3.10.3"
  }
 },
 "nbformat": 4,
 "nbformat_minor": 5
}
